{
  "nbformat": 4,
  "nbformat_minor": 0,
  "metadata": {
    "colab": {
      "provenance": [],
      "authorship_tag": "ABX9TyNFA6ji3Tmnd02dGoTMp/ha",
      "include_colab_link": true
    },
    "kernelspec": {
      "name": "python3",
      "display_name": "Python 3"
    },
    "language_info": {
      "name": "python"
    }
  },
  "cells": [
    {
      "cell_type": "markdown",
      "metadata": {
        "id": "view-in-github",
        "colab_type": "text"
      },
      "source": [
        "<a href=\"https://colab.research.google.com/github/johnjustine5646/EditDistance_NLG_Lab9/blob/main/John_522_Lab9.ipynb\" target=\"_parent\"><img src=\"https://colab.research.google.com/assets/colab-badge.svg\" alt=\"Open In Colab\"/></a>"
      ]
    },
    {
      "cell_type": "code",
      "execution_count": 1,
      "metadata": {
        "colab": {
          "base_uri": "https://localhost:8080/"
        },
        "id": "XQMhmpDXjGJk",
        "outputId": "67c4f648-d3c1-4563-e62a-75c5aab219ff"
      },
      "outputs": [
        {
          "output_type": "stream",
          "name": "stdout",
          "text": [
            "Edit distance between 'machine' and 'machines' is: 1\n"
          ]
        }
      ],
      "source": [
        "def edit_distance(word1, word2):\n",
        "    m = len(word1)\n",
        "    n = len(word2)\n",
        "\n",
        "    dp = [[0] * (n + 1) for _ in range(m + 1)]\n",
        "\n",
        "    for i in range(m + 1):\n",
        "        dp[i][0] = i\n",
        "\n",
        "    for j in range(n + 1):\n",
        "        dp[0][j] = j\n",
        "\n",
        "    for i in range(1, m + 1):\n",
        "        for j in range(1, n + 1):\n",
        "            if word1[i - 1] == word2[j - 1]:\n",
        "                dp[i][j] = dp[i - 1][j - 1]\n",
        "            else:\n",
        "                dp[i][j] = min(dp[i - 1][j - 1], dp[i - 1][j], dp[i][j - 1]) + 1\n",
        "\n",
        "    return dp[m][n]\n",
        "\n",
        "word1 = \"machine\"\n",
        "word2 = \"machines\"\n",
        "print(\"Edit distance between '{}' and '{}' is: {}\".format(word1, word2, edit_distance(word1, word2)))"
      ]
    },
    {
      "cell_type": "code",
      "source": [
        "import random\n",
        "\n",
        "story_templates = [\n",
        "    \"Once upon a time in a land called {0}, there was a {1} who loved nothing more than {2}.\",\n",
        "    \"In the deep forest of {0}, lived a lonely {1} who always dreamed of {2}.\",\n",
        "    \"Long ago in the kingdom of {0}, a {1} set out on a quest to find {2}.\"\n",
        "]\n",
        "\n",
        "poem_templates = [\n",
        "    \"In the heart of {0},\\nA {1} silently weeps,\\nLonging for {2},\\nForever in dreams.\",\n",
        "    \"Ode to {0},\\nWhere {1}s roam,\\nSeeking {2},\\nTheir eternal home.\",\n",
        "    \"{0}, oh {0},\\nA land so fair,\\nA {1} seeks {2},\\nWith hope and prayer.\"\n",
        "]\n",
        "\n",
        "def create_story(keywords):\n",
        "    template = random.choice(story_templates)\n",
        "    return template.format(*keywords)\n",
        "\n",
        "def create_poem(keywords):\n",
        "    template = random.choice(poem_templates)\n",
        "    return template.format(*keywords)\n",
        "\n",
        "keywords = input(\"Enter three keywords separated by commas (e.g., 'forest, elf, freedom'): \").split(',')\n",
        "\n",
        "keywords = [keyword.strip() for keyword in keywords]\n",
        "\n",
        "story = create_story(keywords)\n",
        "poem = create_poem(keywords)\n",
        "\n",
        "print(\"\\nGenerated Story:\")\n",
        "print(story)\n",
        "print(\"\\nGenerated Poem:\")\n",
        "print(poem)"
      ],
      "metadata": {
        "colab": {
          "base_uri": "https://localhost:8080/"
        },
        "id": "5UX9wVukjb3h",
        "outputId": "17283fe0-5945-4054-a962-85da585a0626"
      },
      "execution_count": 2,
      "outputs": [
        {
          "output_type": "stream",
          "name": "stdout",
          "text": [
            "Enter three keywords separated by commas (e.g., 'forest, elf, freedom'): forest, elf, freedom\n",
            "\n",
            "Generated Story:\n",
            "Once upon a time in a land called forest, there was a elf who loved nothing more than freedom.\n",
            "\n",
            "Generated Poem:\n",
            "forest, oh forest,\n",
            "A land so fair,\n",
            "A elf seeks freedom,\n",
            "With hope and prayer.\n"
          ]
        }
      ]
    }
  ]
}